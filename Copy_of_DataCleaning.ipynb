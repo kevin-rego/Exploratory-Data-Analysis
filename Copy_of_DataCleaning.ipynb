{
  "nbformat": 4,
  "nbformat_minor": 0,
  "metadata": {
    "colab": {
      "provenance": [],
      "include_colab_link": true
    },
    "kernelspec": {
      "name": "python3",
      "display_name": "Python 3"
    },
    "language_info": {
      "name": "python"
    }
  },
  "cells": [
    {
      "cell_type": "markdown",
      "metadata": {
        "id": "view-in-github",
        "colab_type": "text"
      },
      "source": [
        "<a href=\"https://colab.research.google.com/github/kevin-rego/Exploratory-Data-Analysis/blob/main/Copy_of_DataCleaning.ipynb\" target=\"_parent\"><img src=\"https://colab.research.google.com/assets/colab-badge.svg\" alt=\"Open In Colab\"/></a>"
      ]
    },
    {
      "cell_type": "code",
      "source": [
        "from datasets import load_dataset\n",
        "\n",
        "dataset = load_dataset(\"code_search_net\", \"all\")"
      ],
      "metadata": {
        "id": "QHBTlT_jtCsa"
      },
      "execution_count": null,
      "outputs": []
    },
    {
      "cell_type": "code",
      "source": [
        "all_columns = dataset.column_names"
      ],
      "metadata": {
        "id": "ccstK1hP1LA_"
      },
      "execution_count": null,
      "outputs": []
    },
    {
      "cell_type": "code",
      "source": [
        "columns_to_keep = [\"func_code_string\", \"func_documentation_string\"]\n",
        "\n",
        "# Create a list of columns to remove\n",
        "columns_to_remove = [col for col in dataset['train'].column_names if col not in columns_to_keep]\n",
        "\n",
        "# Remove the unwanted columns from each subset of the dataset\n",
        "dataset = dataset.remove_columns(columns_to_remove)"
      ],
      "metadata": {
        "id": "TK5pECfn1clx"
      },
      "execution_count": null,
      "outputs": []
    },
    {
      "cell_type": "code",
      "source": [
        "all_columns = dataset.column_names\n",
        "print(all_columns)"
      ],
      "metadata": {
        "id": "nhip5yfu4la1"
      },
      "execution_count": null,
      "outputs": []
    },
    {
      "cell_type": "code",
      "source": [
        "dataset.save_to_disk('/sample_data/dataset')"
      ],
      "metadata": {
        "id": "KdvPdUXu5H3d"
      },
      "execution_count": null,
      "outputs": []
    },
    {
      "cell_type": "code",
      "source": [
        "from google.colab import files\n",
        "\n",
        "# Assuming the dataset is saved at '/content/my_dataset'\n",
        "files.download('/sample_data/dataset')\n"
      ],
      "metadata": {
        "id": "AU5labHe5u7W"
      },
      "execution_count": null,
      "outputs": []
    },
    {
      "cell_type": "code",
      "source": [
        "from google.colab import drive\n",
        "drive.mount('/content/gdrive')\n"
      ],
      "metadata": {
        "id": "YGJxZm6A5unY"
      },
      "execution_count": null,
      "outputs": []
    },
    {
      "cell_type": "code",
      "source": [
        "dataset.save_to_disk('/content/gdrive/My Drive/my_dataset')"
      ],
      "metadata": {
        "id": "KyPlHRlI7wXA"
      },
      "execution_count": null,
      "outputs": []
    },
    {
      "cell_type": "code",
      "source": [
        "import re\n",
        "\n",
        "def remove_docstrings(code_string):\n",
        "    return re.sub(r'\"\"\".*?\"\"\"', '', code_string, flags=re.DOTALL)\n",
        "\n",
        "dataset = dataset.map(lambda example: {'func_code_string': remove_docstrings(example['func_code_string'])})\n"
      ],
      "metadata": {
        "id": "E6CCZF2Q-HJF"
      },
      "execution_count": null,
      "outputs": []
    },
    {
      "cell_type": "code",
      "source": [
        "dataset[\"train\"][1]"
      ],
      "metadata": {
        "id": "3O1rk-O3_oB9"
      },
      "execution_count": null,
      "outputs": []
    },
    {
      "cell_type": "code",
      "source": [
        "dataset.save_to_disk('/content/gdrive/My Drive/my_dataset')"
      ],
      "metadata": {
        "id": "qaa7na2YCgbJ"
      },
      "execution_count": null,
      "outputs": []
    }
  ]
}