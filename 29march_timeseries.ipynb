{
  "nbformat": 4,
  "nbformat_minor": 0,
  "metadata": {
    "colab": {
      "provenance": [],
      "authorship_tag": "ABX9TyMEVcYmtuvcoyjZjwCU92jJ",
      "include_colab_link": true
    },
    "kernelspec": {
      "name": "python3",
      "display_name": "Python 3"
    },
    "language_info": {
      "name": "python"
    }
  },
  "cells": [
    {
      "cell_type": "markdown",
      "metadata": {
        "id": "view-in-github",
        "colab_type": "text"
      },
      "source": [
        "<a href=\"https://colab.research.google.com/github/kevin-rego/Exploratory-Data-Analysis/blob/main/29march_timeseries.ipynb\" target=\"_parent\"><img src=\"https://colab.research.google.com/assets/colab-badge.svg\" alt=\"Open In Colab\"/></a>"
      ]
    },
    {
      "cell_type": "code",
      "execution_count": null,
      "metadata": {
        "id": "HwC9j6Njr1yt"
      },
      "outputs": [],
      "source": [
        "import numpy as np\n",
        "import pandas as pd \n",
        "import seaborn as sns\n",
        "import matplotlib.pyplot as plt\n",
        "import warnings\n",
        "warnings.filterwarnings('ignore')"
      ]
    },
    {
      "cell_type": "code",
      "source": [
        "df = pd.read_csv('/content/yearly-water-usage.csv')"
      ],
      "metadata": {
        "id": "8JRUwGP_LYO7"
      },
      "execution_count": null,
      "outputs": []
    },
    {
      "cell_type": "code",
      "source": [
        "df.info()"
      ],
      "metadata": {
        "colab": {
          "base_uri": "https://localhost:8080/"
        },
        "id": "vmPbUDoUMlV9",
        "outputId": "e6647d59-7dd1-4d27-b801-342de070663e"
      },
      "execution_count": null,
      "outputs": [
        {
          "output_type": "stream",
          "name": "stdout",
          "text": [
            "<class 'pandas.core.frame.DataFrame'>\n",
            "RangeIndex: 79 entries, 0 to 78\n",
            "Data columns (total 2 columns):\n",
            " #   Column  Non-Null Count  Dtype\n",
            "---  ------  --------------  -----\n",
            " 0   Year    79 non-null     int64\n",
            " 1   Water   79 non-null     int64\n",
            "dtypes: int64(2)\n",
            "memory usage: 1.4 KB\n"
          ]
        }
      ]
    },
    {
      "cell_type": "code",
      "source": [
        "df.index = df.Year\n",
        "df = df.drop(\"Year\",axis=1)\n"
      ],
      "metadata": {
        "id": "e_fpT3uZM_NK"
      },
      "execution_count": null,
      "outputs": []
    },
    {
      "cell_type": "code",
      "source": [
        "from statsmodels.tsa.stattools import adfuller\n",
        "\n",
        "# check_adfuller\n",
        "def cal_adfuller(ts):\n",
        "    # Dickey-Fuller test\n",
        "    result = adfuller(ts) # Augmented Dicky Fuller Test\n",
        "    print('Test statistic: ' , result[0])\n",
        "    print('p-value: '  ,result[1])\n",
        "    # result[2] -> usedlag , the number of lags used\n",
        "    # result[3] -> nobs, The number of observations used for the regression and calculation of the critical values.\n",
        "    print('Critical Values:' ,result[4])"
      ],
      "metadata": {
        "id": "SDiJlkssNLOS"
      },
      "execution_count": null,
      "outputs": []
    },
    {
      "cell_type": "code",
      "source": [
        "adfuller(df)"
      ],
      "metadata": {
        "colab": {
          "base_uri": "https://localhost:8080/"
        },
        "id": "kPH5IwwbGov7",
        "outputId": "d2388361-f3db-44ac-b43f-865e219466e1"
      },
      "execution_count": null,
      "outputs": [
        {
          "output_type": "execute_result",
          "data": {
            "text/plain": [
              "(-2.077087450405188,\n",
              " 0.2538270887941583,\n",
              " 2,\n",
              " 76,\n",
              " {'1%': -3.5194805351545413,\n",
              "  '5%': -2.9003945086747343,\n",
              "  '10%': -2.5874984279778395},\n",
              " 622.4874229514137)"
            ]
          },
          "metadata": {},
          "execution_count": 15
        }
      ]
    },
    {
      "cell_type": "code",
      "source": [
        "df"
      ],
      "metadata": {
        "colab": {
          "base_uri": "https://localhost:8080/",
          "height": 455
        },
        "id": "AHR2hgesJw4a",
        "outputId": "ca17e704-af2d-4c16-eea8-77f1031a4998"
      },
      "execution_count": null,
      "outputs": [
        {
          "output_type": "execute_result",
          "data": {
            "text/plain": [
              "      Water\n",
              "Year       \n",
              "1885    356\n",
              "1886    386\n",
              "1887    397\n",
              "1888    397\n",
              "1889    413\n",
              "...     ...\n",
              "1959    594\n",
              "1960    587\n",
              "1961    587\n",
              "1962    625\n",
              "1963    613\n",
              "\n",
              "[79 rows x 1 columns]"
            ],
            "text/html": [
              "\n",
              "  <div id=\"df-4155fc2f-76a3-45ba-a835-953a3ab8ff07\">\n",
              "    <div class=\"colab-df-container\">\n",
              "      <div>\n",
              "<style scoped>\n",
              "    .dataframe tbody tr th:only-of-type {\n",
              "        vertical-align: middle;\n",
              "    }\n",
              "\n",
              "    .dataframe tbody tr th {\n",
              "        vertical-align: top;\n",
              "    }\n",
              "\n",
              "    .dataframe thead th {\n",
              "        text-align: right;\n",
              "    }\n",
              "</style>\n",
              "<table border=\"1\" class=\"dataframe\">\n",
              "  <thead>\n",
              "    <tr style=\"text-align: right;\">\n",
              "      <th></th>\n",
              "      <th>Water</th>\n",
              "    </tr>\n",
              "    <tr>\n",
              "      <th>Year</th>\n",
              "      <th></th>\n",
              "    </tr>\n",
              "  </thead>\n",
              "  <tbody>\n",
              "    <tr>\n",
              "      <th>1885</th>\n",
              "      <td>356</td>\n",
              "    </tr>\n",
              "    <tr>\n",
              "      <th>1886</th>\n",
              "      <td>386</td>\n",
              "    </tr>\n",
              "    <tr>\n",
              "      <th>1887</th>\n",
              "      <td>397</td>\n",
              "    </tr>\n",
              "    <tr>\n",
              "      <th>1888</th>\n",
              "      <td>397</td>\n",
              "    </tr>\n",
              "    <tr>\n",
              "      <th>1889</th>\n",
              "      <td>413</td>\n",
              "    </tr>\n",
              "    <tr>\n",
              "      <th>...</th>\n",
              "      <td>...</td>\n",
              "    </tr>\n",
              "    <tr>\n",
              "      <th>1959</th>\n",
              "      <td>594</td>\n",
              "    </tr>\n",
              "    <tr>\n",
              "      <th>1960</th>\n",
              "      <td>587</td>\n",
              "    </tr>\n",
              "    <tr>\n",
              "      <th>1961</th>\n",
              "      <td>587</td>\n",
              "    </tr>\n",
              "    <tr>\n",
              "      <th>1962</th>\n",
              "      <td>625</td>\n",
              "    </tr>\n",
              "    <tr>\n",
              "      <th>1963</th>\n",
              "      <td>613</td>\n",
              "    </tr>\n",
              "  </tbody>\n",
              "</table>\n",
              "<p>79 rows × 1 columns</p>\n",
              "</div>\n",
              "      <button class=\"colab-df-convert\" onclick=\"convertToInteractive('df-4155fc2f-76a3-45ba-a835-953a3ab8ff07')\"\n",
              "              title=\"Convert this dataframe to an interactive table.\"\n",
              "              style=\"display:none;\">\n",
              "        \n",
              "  <svg xmlns=\"http://www.w3.org/2000/svg\" height=\"24px\"viewBox=\"0 0 24 24\"\n",
              "       width=\"24px\">\n",
              "    <path d=\"M0 0h24v24H0V0z\" fill=\"none\"/>\n",
              "    <path d=\"M18.56 5.44l.94 2.06.94-2.06 2.06-.94-2.06-.94-.94-2.06-.94 2.06-2.06.94zm-11 1L8.5 8.5l.94-2.06 2.06-.94-2.06-.94L8.5 2.5l-.94 2.06-2.06.94zm10 10l.94 2.06.94-2.06 2.06-.94-2.06-.94-.94-2.06-.94 2.06-2.06.94z\"/><path d=\"M17.41 7.96l-1.37-1.37c-.4-.4-.92-.59-1.43-.59-.52 0-1.04.2-1.43.59L10.3 9.45l-7.72 7.72c-.78.78-.78 2.05 0 2.83L4 21.41c.39.39.9.59 1.41.59.51 0 1.02-.2 1.41-.59l7.78-7.78 2.81-2.81c.8-.78.8-2.07 0-2.86zM5.41 20L4 18.59l7.72-7.72 1.47 1.35L5.41 20z\"/>\n",
              "  </svg>\n",
              "      </button>\n",
              "      \n",
              "  <style>\n",
              "    .colab-df-container {\n",
              "      display:flex;\n",
              "      flex-wrap:wrap;\n",
              "      gap: 12px;\n",
              "    }\n",
              "\n",
              "    .colab-df-convert {\n",
              "      background-color: #E8F0FE;\n",
              "      border: none;\n",
              "      border-radius: 50%;\n",
              "      cursor: pointer;\n",
              "      display: none;\n",
              "      fill: #1967D2;\n",
              "      height: 32px;\n",
              "      padding: 0 0 0 0;\n",
              "      width: 32px;\n",
              "    }\n",
              "\n",
              "    .colab-df-convert:hover {\n",
              "      background-color: #E2EBFA;\n",
              "      box-shadow: 0px 1px 2px rgba(60, 64, 67, 0.3), 0px 1px 3px 1px rgba(60, 64, 67, 0.15);\n",
              "      fill: #174EA6;\n",
              "    }\n",
              "\n",
              "    [theme=dark] .colab-df-convert {\n",
              "      background-color: #3B4455;\n",
              "      fill: #D2E3FC;\n",
              "    }\n",
              "\n",
              "    [theme=dark] .colab-df-convert:hover {\n",
              "      background-color: #434B5C;\n",
              "      box-shadow: 0px 1px 3px 1px rgba(0, 0, 0, 0.15);\n",
              "      filter: drop-shadow(0px 1px 2px rgba(0, 0, 0, 0.3));\n",
              "      fill: #FFFFFF;\n",
              "    }\n",
              "  </style>\n",
              "\n",
              "      <script>\n",
              "        const buttonEl =\n",
              "          document.querySelector('#df-4155fc2f-76a3-45ba-a835-953a3ab8ff07 button.colab-df-convert');\n",
              "        buttonEl.style.display =\n",
              "          google.colab.kernel.accessAllowed ? 'block' : 'none';\n",
              "\n",
              "        async function convertToInteractive(key) {\n",
              "          const element = document.querySelector('#df-4155fc2f-76a3-45ba-a835-953a3ab8ff07');\n",
              "          const dataTable =\n",
              "            await google.colab.kernel.invokeFunction('convertToInteractive',\n",
              "                                                     [key], {});\n",
              "          if (!dataTable) return;\n",
              "\n",
              "          const docLinkHtml = 'Like what you see? Visit the ' +\n",
              "            '<a target=\"_blank\" href=https://colab.research.google.com/notebooks/data_table.ipynb>data table notebook</a>'\n",
              "            + ' to learn more about interactive tables.';\n",
              "          element.innerHTML = '';\n",
              "          dataTable['output_type'] = 'display_data';\n",
              "          await google.colab.output.renderOutput(dataTable, element);\n",
              "          const docLink = document.createElement('div');\n",
              "          docLink.innerHTML = docLinkHtml;\n",
              "          element.appendChild(docLink);\n",
              "        }\n",
              "      </script>\n",
              "    </div>\n",
              "  </div>\n",
              "  "
            ]
          },
          "metadata": {},
          "execution_count": 16
        }
      ]
    },
    {
      "cell_type": "code",
      "source": [
        "split_point = len(df) - 10\n",
        "dataset, validation = df[0:split_point], df[split_point:]"
      ],
      "metadata": {
        "id": "6prMLpYRRlbJ"
      },
      "execution_count": null,
      "outputs": []
    },
    {
      "cell_type": "code",
      "source": [
        "# prepare data. spliting into train and test set\n",
        "X = df.values\n",
        "X = X.astype('float32')\n",
        "# Always convert a loaded dataset to float32 in case the loaded data \n",
        "# still has some String or Integer data types.\n",
        "\n",
        "train_size = int(len(X) * 0.50)\n",
        "train, test = X[0:train_size], X[train_size:]"
      ],
      "metadata": {
        "id": "vB3C1y9UTzmr"
      },
      "execution_count": null,
      "outputs": []
    },
    {
      "cell_type": "code",
      "source": [
        "# walk-forward validation\n",
        "history = [x for x in train]\n",
        "predictions = list()\n",
        "for i in range(len(test)):\n",
        "\t# predict\n",
        "\tyhat = history[-1] # using the last i.e 69th record to predict 70th record\n",
        "\tpredictions.append(yhat)\n",
        "\n",
        "    # observation\n",
        "\tobs = test[i]\n",
        "\thistory.append(obs)\n",
        "\tprint('>Predicted= ' ,yhat, 'Expected= ', obs)"
      ],
      "metadata": {
        "colab": {
          "base_uri": "https://localhost:8080/"
        },
        "id": "wffrQnjWT50D",
        "outputId": "9f984896-de41-4cd9-d0d8-31a86f62cc87"
      },
      "execution_count": null,
      "outputs": [
        {
          "output_type": "stream",
          "name": "stdout",
          "text": [
            ">Predicted=  [492.] Expected=  [503.]\n",
            ">Predicted=  [503.] Expected=  [503.]\n",
            ">Predicted=  [503.] Expected=  [450.]\n",
            ">Predicted=  [450.] Expected=  [432.]\n",
            ">Predicted=  [432.] Expected=  [432.]\n",
            ">Predicted=  [432.] Expected=  [458.]\n",
            ">Predicted=  [458.] Expected=  [462.]\n",
            ">Predicted=  [462.] Expected=  [503.]\n",
            ">Predicted=  [503.] Expected=  [488.]\n",
            ">Predicted=  [488.] Expected=  [466.]\n",
            ">Predicted=  [466.] Expected=  [492.]\n",
            ">Predicted=  [492.] Expected=  [503.]\n",
            ">Predicted=  [503.] Expected=  [515.]\n",
            ">Predicted=  [515.] Expected=  [500.]\n",
            ">Predicted=  [500.] Expected=  [522.]\n",
            ">Predicted=  [522.] Expected=  [575.]\n",
            ">Predicted=  [575.] Expected=  [583.]\n",
            ">Predicted=  [583.] Expected=  [587.]\n",
            ">Predicted=  [587.] Expected=  [628.]\n",
            ">Predicted=  [628.] Expected=  [640.]\n",
            ">Predicted=  [640.] Expected=  [609.]\n",
            ">Predicted=  [609.] Expected=  [606.]\n",
            ">Predicted=  [606.] Expected=  [632.]\n",
            ">Predicted=  [632.] Expected=  [617.]\n",
            ">Predicted=  [617.] Expected=  [613.]\n",
            ">Predicted=  [613.] Expected=  [598.]\n",
            ">Predicted=  [598.] Expected=  [575.]\n",
            ">Predicted=  [575.] Expected=  [564.]\n",
            ">Predicted=  [564.] Expected=  [549.]\n",
            ">Predicted=  [549.] Expected=  [538.]\n",
            ">Predicted=  [538.] Expected=  [568.]\n",
            ">Predicted=  [568.] Expected=  [575.]\n",
            ">Predicted=  [575.] Expected=  [579.]\n",
            ">Predicted=  [579.] Expected=  [587.]\n",
            ">Predicted=  [587.] Expected=  [602.]\n",
            ">Predicted=  [602.] Expected=  [594.]\n",
            ">Predicted=  [594.] Expected=  [587.]\n",
            ">Predicted=  [587.] Expected=  [587.]\n",
            ">Predicted=  [587.] Expected=  [625.]\n",
            ">Predicted=  [625.] Expected=  [613.]\n"
          ]
        }
      ]
    },
    {
      "cell_type": "code",
      "source": [
        "series = pd.read_csv('/content/yearly-water-usage.csv', parse_dates=[0], index_col=['Year'], header=0)"
      ],
      "metadata": {
        "id": "7r_vmHU-UXMn"
      },
      "execution_count": null,
      "outputs": []
    },
    {
      "cell_type": "code",
      "source": [
        "from statsmodels.graphics.tsaplots import plot_acf\n",
        "from statsmodels.graphics.tsaplots import plot_pacf\n",
        "from matplotlib import pyplot\n"
      ],
      "metadata": {
        "id": "fn3HPWojVsQx"
      },
      "execution_count": null,
      "outputs": []
    },
    {
      "cell_type": "code",
      "source": [
        "fig = pyplot.figure()\n",
        "fig.subplots_adjust(hspace=0.6)\n",
        "pyplot.subplot(211)\n",
        "plot_acf(series, ax=pyplot.gca()) # gca -> \"GetCurrentAxis\"\n",
        "# Plots lags on the horizontal and the correlations on vertical axis.\n",
        "\n",
        "pyplot.subplot(212)\n",
        "plot_pacf(series, ax=pyplot.gca())\n",
        "pyplot.show();"
      ],
      "metadata": {
        "colab": {
          "base_uri": "https://localhost:8080/",
          "height": 452
        },
        "id": "YEo0Y1hIVzBI",
        "outputId": "ae401eb0-d5f0-4d61-9f52-9d00f22ecf60"
      },
      "execution_count": null,
      "outputs": [
        {
          "output_type": "display_data",
          "data": {
            "text/plain": [
              "<Figure size 640x480 with 2 Axes>"
            ],
            "image/png": "[encoded data removed]"
          },
          "metadata": {}
        }
      ]
    },
    {
      "cell_type": "code",
      "source": [
        "import warnings\n",
        "warnings.filterwarnings('ignore')\n",
        "\n",
        "from pandas import read_csv\n",
        "from sklearn.metrics import mean_squared_error\n",
        "from statsmodels.tsa.arima.model import ARIMA\n",
        "from math import sqrt\n",
        "\n",
        "# load data\n",
        "series = read_csv('/content/yearly-water-usage.csv', header=0, index_col=0)\n",
        "\n",
        "# prepare data\n",
        "X = series.values\n",
        "X = X.astype('float32')\n",
        "\n",
        "train_size = int(len(X) * 0.50)\n",
        "train, test = X[0:train_size], X[train_size:]\n",
        "\n",
        "# walk-forward validation\n",
        "history = [x for x in train]\n",
        "predictions = list()\n",
        "\n",
        "for i in range(len(test)):\n",
        "\t# predict\n",
        "\tmodel = ARIMA(history, order=(0,1,0))\n",
        "\tmodel_fit = model.fit() \n",
        "    # By default, disp parameter is set to 1, which shows convergence output.\n",
        "    # Set disp to 0, because it is critical in removing all of the convergence output when evaluating the ARIMA model using walk-forward validation.\n",
        "    # Setting it to False turns off all of this noise i.e extra unwanted o/p.\n",
        "\tyhat = model_fit.forecast()[0]\n",
        "\tpredictions.append(yhat)\n",
        "\t# observation\n",
        "\tobs = test[i]\n",
        "\thistory.append(obs)\n",
        "\tprint('>Predicted=%.3f, Expected=%3.f' % (yhat, obs))"
      ],
      "metadata": {
        "colab": {
          "base_uri": "https://localhost:8080/"
        },
        "id": "EA0nBl5VV9ba",
        "outputId": "9d67110f-df81-4c52-8033-1638f63dd557"
      },
      "execution_count": null,
      "outputs": [
        {
          "output_type": "stream",
          "name": "stdout",
          "text": [
            ">Predicted=492.000, Expected=503\n",
            ">Predicted=503.000, Expected=503\n",
            ">Predicted=503.000, Expected=450\n",
            ">Predicted=450.000, Expected=432\n",
            ">Predicted=432.000, Expected=432\n",
            ">Predicted=432.000, Expected=458\n",
            ">Predicted=458.000, Expected=462\n",
            ">Predicted=462.000, Expected=503\n",
            ">Predicted=503.000, Expected=488\n",
            ">Predicted=488.000, Expected=466\n",
            ">Predicted=466.000, Expected=492\n",
            ">Predicted=492.000, Expected=503\n",
            ">Predicted=503.000, Expected=515\n",
            ">Predicted=515.000, Expected=500\n",
            ">Predicted=500.000, Expected=522\n",
            ">Predicted=522.000, Expected=575\n",
            ">Predicted=575.000, Expected=583\n",
            ">Predicted=583.000, Expected=587\n",
            ">Predicted=587.000, Expected=628\n",
            ">Predicted=628.000, Expected=640\n",
            ">Predicted=640.000, Expected=609\n",
            ">Predicted=609.000, Expected=606\n",
            ">Predicted=606.000, Expected=632\n",
            ">Predicted=632.000, Expected=617\n",
            ">Predicted=617.000, Expected=613\n",
            ">Predicted=613.000, Expected=598\n",
            ">Predicted=598.000, Expected=575\n",
            ">Predicted=575.000, Expected=564\n",
            ">Predicted=564.000, Expected=549\n",
            ">Predicted=549.000, Expected=538\n",
            ">Predicted=538.000, Expected=568\n",
            ">Predicted=568.000, Expected=575\n",
            ">Predicted=575.000, Expected=579\n",
            ">Predicted=579.000, Expected=587\n",
            ">Predicted=587.000, Expected=602\n",
            ">Predicted=602.000, Expected=594\n",
            ">Predicted=594.000, Expected=587\n",
            ">Predicted=587.000, Expected=587\n",
            ">Predicted=587.000, Expected=625\n",
            ">Predicted=625.000, Expected=613\n"
          ]
        }
      ]
    }
  ]
}